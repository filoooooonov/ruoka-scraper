{
 "cells": [
  {
   "cell_type": "code",
   "execution_count": 2,
   "metadata": {},
   "outputs": [],
   "source": [
    "from selenium import webdriver\n",
    "from selenium.webdriver.common.keys import Keys\n",
    "from selenium.webdriver.common.by import By\n",
    "import re"
   ]
  },
  {
   "cell_type": "code",
   "execution_count": 3,
   "metadata": {},
   "outputs": [],
   "source": [
    "driver = webdriver.Chrome()"
   ]
  },
  {
   "cell_type": "code",
   "execution_count": 42,
   "metadata": {},
   "outputs": [],
   "source": [
    "query = 'maitosuklaa'"
   ]
  },
  {
   "cell_type": "code",
   "execution_count": 43,
   "metadata": {},
   "outputs": [],
   "source": [
    "driver.get(f'https://www.s-kaupat.fi/hakutulokset?queryString={query}&sort=price%3Aasc')"
   ]
  },
  {
   "cell_type": "code",
   "execution_count": 44,
   "metadata": {},
   "outputs": [
    {
     "name": "stdout",
     "output_type": "stream",
     "text": [
      "Fazer Dumle 10g maitosuklaalla kuorrutettu toffeetikkari: 29.0\n"
     ]
    }
   ],
   "source": [
    "# Get the first element from the sorted page\n",
    "elem = driver.find_elements(By.CLASS_NAME, 'sc-9fba10af-1')\n",
    "cheapest = elem[0].text\n",
    "cheapest_name = cheapest.split('\\n')[0]\n",
    "cheapest_price = re.findall(r'\\b\\d{1,2},\\d{2} €', cheapest)\n",
    "cheapest_price_kilo = float(cheapest_price[1].strip(' €').replace(',', '.'))\n",
    "\n",
    "print(f\"{cheapest_name}: {cheapest_price_kilo}\")\n",
    "\n"
   ]
  },
  {
   "cell_type": "code",
   "execution_count": 107,
   "metadata": {},
   "outputs": [],
   "source": [
    "products = {}"
   ]
  },
  {
   "cell_type": "code",
   "execution_count": 108,
   "metadata": {},
   "outputs": [],
   "source": [
    "\n",
    "for description in descriptions:\n",
    "    price = re.findall(r'\\b\\d{1,2},\\d{2} €', description)\n",
    "    if len(price) > 1:\n",
    "        price_kilo = price[1].strip(' €')\n",
    "        price_kilo = float(price_kilo.replace(',', '.'))\n",
    "        name = description.split('\\n')[0]\n",
    "        products[name] = price_kilo\n"
   ]
  },
  {
   "cell_type": "code",
   "execution_count": 109,
   "metadata": {},
   "outputs": [
    {
     "name": "stdout",
     "output_type": "stream",
     "text": [
      "Refresco Appelsiinimehu 1l\n",
      "0.99\n"
     ]
    }
   ],
   "source": [
    "# Get lowest price product\n",
    "values = list(products.values())\n",
    "new_list = []\n",
    "for i in values:\n",
    "    if isinstance(i, float):\n",
    "        new_list.append(i)\n",
    "\n",
    "print(list(products.keys())[list(products.values()).index(min(new_list))])\n",
    "print(min(new_list))"
   ]
  }
 ],
 "metadata": {
  "kernelspec": {
   "display_name": "Python 3",
   "language": "python",
   "name": "python3"
  },
  "language_info": {
   "codemirror_mode": {
    "name": "ipython",
    "version": 3
   },
   "file_extension": ".py",
   "mimetype": "text/x-python",
   "name": "python",
   "nbconvert_exporter": "python",
   "pygments_lexer": "ipython3",
   "version": "3.12.1"
  }
 },
 "nbformat": 4,
 "nbformat_minor": 2
}
