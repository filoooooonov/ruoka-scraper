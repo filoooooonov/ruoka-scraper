{
 "cells": [
  {
   "cell_type": "code",
   "execution_count": 2,
   "metadata": {},
   "outputs": [],
   "source": [
    "from selenium import webdriver\n",
    "from selenium.webdriver.common.keys import Keys\n",
    "from selenium.webdriver.common.by import By\n",
    "import re"
   ]
  },
  {
   "cell_type": "code",
   "execution_count": 3,
   "metadata": {},
   "outputs": [],
   "source": [
    "driver = webdriver.Chrome()"
   ]
  },
  {
   "cell_type": "code",
   "execution_count": 4,
   "metadata": {},
   "outputs": [],
   "source": [
    "query = 'omena'"
   ]
  },
  {
   "cell_type": "code",
   "execution_count": 5,
   "metadata": {},
   "outputs": [],
   "source": [
    "driver.get(f'https://www.s-kaupat.fi/hakutulokset?queryString={query}&sort=price%3Aasc')"
   ]
  },
  {
   "cell_type": "code",
   "execution_count": 6,
   "metadata": {},
   "outputs": [
    {
     "name": "stdout",
     "output_type": "stream",
     "text": [
      "Omena Ida red: 1.09\n"
     ]
    }
   ],
   "source": [
    "# Get the first element from the sorted page\n",
    "elem = driver.find_elements(By.CLASS_NAME, 'sc-9fba10af-1')\n",
    "cheapest = elem[0].text\n",
    "cheapest_name = cheapest.split('\\n')[0]\n",
    "cheapest_price = re.findall(r'\\b\\d{1,2},\\d{2} €', cheapest)\n",
    "cheapest_price_kilo = float(cheapest_price[1].strip(' €').replace(',', '.'))\n",
    "\n",
    "print(f\"{cheapest_name}: {cheapest_price_kilo}\")"
   ]
  },
  {
   "cell_type": "code",
   "execution_count": null,
   "metadata": {},
   "outputs": [],
   "source": []
  }
 ],
 "metadata": {
  "kernelspec": {
   "display_name": "Python 3",
   "language": "python",
   "name": "python3"
  },
  "language_info": {
   "codemirror_mode": {
    "name": "ipython",
    "version": 3
   },
   "file_extension": ".py",
   "mimetype": "text/x-python",
   "name": "python",
   "nbconvert_exporter": "python",
   "pygments_lexer": "ipython3",
   "version": "3.12.1"
  }
 },
 "nbformat": 4,
 "nbformat_minor": 2
}
