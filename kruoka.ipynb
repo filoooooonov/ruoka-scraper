{
 "cells": [
  {
   "cell_type": "code",
   "execution_count": 2,
   "metadata": {},
   "outputs": [],
   "source": [
    "from selenium import webdriver\n",
    "from selenium_stealth import stealth\n"
   ]
  },
  {
   "cell_type": "code",
   "execution_count": 7,
   "metadata": {},
   "outputs": [],
   "source": []
  },
  {
   "cell_type": "code",
   "execution_count": 24,
   "metadata": {},
   "outputs": [
    {
     "name": "stdout",
     "output_type": "stream",
     "text": [
      "Haluatko saada henkilökohtaisia etuja ja tarjouksia?\n",
      "Tilaa asiakaskirje\n",
      "Plussa\n",
      "K-Ruoka.fi\n",
      "Kaupat\n",
      "Tuotevalikoima\n",
      "Reseptit\n",
      "Sesongissa nyt\n",
      "K-Ruoka-sovellus\n",
      "Android-laitteelle\n",
      "iOS-laitteelle\n",
      "Usein kysyttyä\n",
      "Verkkokauppa\n",
      "Näin tilaat\n",
      "Noutopalvelu\n",
      "K-Market Woltissa\n",
      "K-Supermarket Woltissa\n",
      "Usein kysyttyä\n",
      "Omat tuotemerkit\n",
      "Pirkka\n",
      "Pirkka Parhaat\n",
      "K-Menu – Onpa halpaa jo 10 vuotta!\n",
      "Vain K-kaupoista\n",
      "K-Plussa\n",
      "Tilaa ilmainen Plussa-kortti\n",
      "OmaPlussa-edut\n",
      "Opiskelijan Plussa\n",
      "K-tunnus\n",
      "Liitä Plussa maksukorttiisi\n",
      "© Kesko 2024\n",
      "Evästeasetukset\n",
      "Palvelun käyttöehdot\n",
      "Sopimusehdot\n",
      "Keskon verkkoselailurekisteri\n",
      "K-Ruoka ja verkkokauppa -asiakasrekisteri\n",
      "K-Tunnuksen tietosuojaseloste\n",
      "K-Ruoka kilpailurekisteri\n",
      "Oiva-raportit\n"
     ]
    },
    {
     "ename": "IndexError",
     "evalue": "list index out of range",
     "output_type": "error",
     "traceback": [
      "\u001b[1;31m---------------------------------------------------------------------------\u001b[0m",
      "\u001b[1;31mIndexError\u001b[0m                                Traceback (most recent call last)",
      "Cell \u001b[1;32mIn[24], line 28\u001b[0m\n\u001b[0;32m     25\u001b[0m driver\u001b[38;5;241m.\u001b[39mget(\u001b[38;5;124m\"\u001b[39m\u001b[38;5;124mhttps://www.k-ruoka.fi/haku?q=omena\u001b[39m\u001b[38;5;124m\"\u001b[39m)\n\u001b[0;32m     27\u001b[0m \u001b[38;5;28mprint\u001b[39m(driver\u001b[38;5;241m.\u001b[39mfind_element(By\u001b[38;5;241m.\u001b[39mXPATH, \u001b[38;5;124m\"\u001b[39m\u001b[38;5;124m/html/body\u001b[39m\u001b[38;5;124m\"\u001b[39m)\u001b[38;5;241m.\u001b[39mtext)\n\u001b[1;32m---> 28\u001b[0m elem2 \u001b[38;5;241m=\u001b[39m \u001b[43mdriver\u001b[49m\u001b[38;5;241;43m.\u001b[39;49m\u001b[43mfind_elements\u001b[49m\u001b[43m(\u001b[49m\u001b[43mBy\u001b[49m\u001b[38;5;241;43m.\u001b[39;49m\u001b[43mCLASS_NAME\u001b[49m\u001b[43m,\u001b[49m\u001b[43m \u001b[49m\u001b[38;5;124;43m'\u001b[39;49m\u001b[38;5;124;43mkc-button\u001b[39;49m\u001b[38;5;124;43m'\u001b[39;49m\u001b[43m)\u001b[49m\u001b[43m[\u001b[49m\u001b[38;5;241;43m1\u001b[39;49m\u001b[43m]\u001b[49m\n\u001b[0;32m     29\u001b[0m elem2\u001b[38;5;241m.\u001b[39mscreenshot(\u001b[38;5;124m'\u001b[39m\u001b[38;5;124mb.png\u001b[39m\u001b[38;5;124m'\u001b[39m)\n\u001b[0;32m     30\u001b[0m elem2\u001b[38;5;241m.\u001b[39mclick()\n",
      "\u001b[1;31mIndexError\u001b[0m: list index out of range"
     ]
    }
   ],
   "source": [
    "from selenium import webdriver\n",
    "from selenium.webdriver.chrome.service import Service\n",
    "from webdriver_manager.chrome import ChromeDriverManager\n",
    "from selenium.webdriver.common.by import By\n",
    "from selenium_stealth import stealth\n",
    "\n",
    "options = webdriver.ChromeOptions()\n",
    "options.add_argument(\"start-maximized\")\n",
    "options.add_argument(\"--headless\")\n",
    "options.add_experimental_option(\"excludeSwitches\", [\"enable-automation\"])\n",
    "options.add_experimental_option('useAutomationExtension', False)\n",
    "\n",
    "s=Service(ChromeDriverManager().install())\n",
    "driver = webdriver.Chrome(service=s, options=options)\n",
    "\n",
    "stealth(driver,\n",
    "        languages=[\"en-US\", \"en\"],\n",
    "        vendor=\"Google Inc.\",\n",
    "        platform=\"Win32\",\n",
    "        webgl_vendor=\"Intel Inc.\",\n",
    "        renderer=\"Intel Iris OpenGL Engine\",\n",
    "        fix_hairline=True,\n",
    ")\n",
    "\n",
    "driver.get(\"https://www.k-ruoka.fi/haku?q=omena\")\n",
    "\n",
    "print(driver.find_element(By.XPATH, \"/html/body\").text)\n",
    "elem2 = driver.find_elements(By.CLASS_NAME, 'kc-button')[1]\n",
    "elem2.screenshot('b.png')\n",
    "elem2.click()\n",
    "\n",
    "# vahvista = driver.find_element(By.CLASS_NAME, 'main-wrapper')\n",
    "# vahvista.screenshot('c.png')\n",
    "\n",
    "elem = driver.find_element(By.XPATH, \"/html/body\")\n",
    "elem.screenshot('a.png')"
   ]
  },
  {
   "cell_type": "code",
   "execution_count": 6,
   "metadata": {},
   "outputs": [],
   "source": [
    "dr = webdriver.Chrome()"
   ]
  },
  {
   "cell_type": "code",
   "execution_count": null,
   "metadata": {},
   "outputs": [],
   "source": []
  }
 ],
 "metadata": {
  "kernelspec": {
   "display_name": "Python 3",
   "language": "python",
   "name": "python3"
  },
  "language_info": {
   "codemirror_mode": {
    "name": "ipython",
    "version": 3
   },
   "file_extension": ".py",
   "mimetype": "text/x-python",
   "name": "python",
   "nbconvert_exporter": "python",
   "pygments_lexer": "ipython3",
   "version": "3.12.1"
  }
 },
 "nbformat": 4,
 "nbformat_minor": 2
}
