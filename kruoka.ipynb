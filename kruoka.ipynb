{
 "cells": [
  {
   "cell_type": "code",
   "execution_count": 4,
   "metadata": {},
   "outputs": [],
   "source": [
    "import undetected_chromedriver as uc \n",
    "from selenium.webdriver.common.by import By\n",
    "import time  \n",
    "import re"
   ]
  },
  {
   "cell_type": "code",
   "execution_count": 43,
   "metadata": {},
   "outputs": [],
   "source": [
    "query = 'banaani'\n",
    "store_location = 'vuoksenniska'\n",
    "\n",
    "options = uc.ChromeOptions() \n",
    "options.headless = False  # Set headless to False to run in non-headless mode"
   ]
  },
  {
   "cell_type": "markdown",
   "metadata": {},
   "source": [
    "### NOTE: I can directly open the page that filters by the product and store location\n",
    "https://www.k-ruoka.fi/haku?q=banaani&kaupat&kauppahaku=vuoksenniska&onlyChangeStore"
   ]
  },
  {
   "cell_type": "code",
   "execution_count": 54,
   "metadata": {},
   "outputs": [
    {
     "name": "stdout",
     "output_type": "stream",
     "text": [
      "{'Pirkka banaani': 1.89, 'Chiquita banaani': 2.15, 'Valiojogurtti 1kg banaani laktoositon': 1.99, 'Valiojogurtti 200g banaani laktoositon': 3.25, 'Valio Hyvä suomalainen Arki™ jogurtti 1 kg mansikka-banaani': 1.59, 'Perinteinen banaanijogurtti 150g': 4.07, 'K-Menu banaanijogurtti 1 kg': 0.9, 'Juustoportti Hyvin sokeroimaton jogurtti 150g mansikka-banaani-vadelma laktoositon': 6.6, 'Valio Luonnonjogurtti+ 1kg persikka, meloni&banaani ei lisättyä sokeria, laktoositon': 2.99, 'Valio Onni® Banaani-mustaherukkakaurapuuro 215 g 8kk UHT': 5.53, 'Plussa-etu −24 %': 3.43, 'Juustoportti Hyvin sokeroimaton banaaninen mehukeitto 1kg': 2.99, 'Plussa-etu −12 %': 7.56, 'Plussa-etu −21 %': 45.45, 'Plussa-etu −8 %': 5.0, 'Jenkki Herra Hakkaraisen täysksylitolipastilli banaani 45g': 57.56, 'Arla Protein rahka 500g banaani laktoositon': 4.58, 'Plussa-etu −16 %': 8.75, '3 Kaverin jäätelöpuikko 80g maapähkinä&banaani laktoositon': 36.13, 'Ehrmann proteiinivanukas suklaavaahdolla 200g banaani laktoositon': 8.95, 'Plussa-etu −10 %': 9.38, 'Semper smoothie 6kk 90g banaani mansikka jogurtti': 12.78, 'Ehrmann proteiinivanukas 200g banaani laktoositon': 8.95, 'Pirkka lasten välipalarahka aprikoosi-banaani-mansikka 6x50g': 4.63, 'Piltti Persikkaa ja banaania 125g 4kk': 4.24, 'Elovena välipalakeksi 10x30g banaani-suklaa': 11.63, 'Piltti Puffi Mansikan ja Banaanin makuisia maissinaksuja 7kk 28g': 53.21, 'Juustoportti Hyvin sokeroimaton ja makeutusaineeton proteiinivanukas 180g banaani-suklaa laktoosito': 8.28, 'Plussa-etu −7 %': 21.09, 'Plussa-etu −15 %': 9.09, 'Pirkka Proteiinipatukka Banaani-Valkosuklaa 45 g': 41.11, 'Keittobanaani': 2.99, 'Best Friend Bilanx kissan pihvitikut 3kpl kana-ankka viljaton': 96.67, 'Plussa-etu −25 %': 14.18, 'Atria Artesaani kanafileekeitto 340g lempeän tulinen': 11.74, 'Knorr FOND DU CHEF Kana-annosfondi 8 x 28 g': 14.69, 'Dreamies Shakeups Multivitamin 55g Rockin Roost kana-ankka-kissanminttu': 42.73, 'Best Friend Care+ kana & ankkakalsiumluu 80g': 29.88, 'Atria Artesaani Murea Kanafilee 160g': 24.94, 'Tupla Double Layer Banana suklaapatukka 48g RFA': 15.63}\n"
     ]
    }
   ],
   "source": [
    "options = uc.ChromeOptions() \n",
    "options.headless = False  # Set headless to False to run in non-headless mode\n",
    "\n",
    "driver = uc.Chrome(use_subprocess=True, options=options) \n",
    "driver.get(f\"https://www.k-ruoka.fi/haku?q={query}\") \n",
    "driver.maximize_window() \n",
    "\n",
    "# Close the popup if it comes out\n",
    "time.sleep(2)\n",
    "if driver.find_elements(By.CLASS_NAME, 'kc-button'):\n",
    "    popup_button = driver.find_elements(By.CLASS_NAME, 'kc-button')[1]\n",
    "    popup_button.click()\n",
    "\n",
    "\n",
    "time.sleep(1)\n",
    "\n",
    "\n",
    "# Set the store location\n",
    "stores_button = driver.find_element(By.CLASS_NAME, 'SelectedStore__ChainAndName-sc-176mxqm-0')\n",
    "stores_button.click()\n",
    "time.sleep(1)\n",
    "store_input = driver.find_element(By.CLASS_NAME, 'ClearableInput2__Input-sc-1dtuu4t-1')\n",
    "store_input.send_keys(store_location)\n",
    "time.sleep(1)\n",
    "choose_store_button = driver.find_element(By.CSS_SELECTOR, '[data-select-store=\"k-supermarket-vuoksenniska\"]')\n",
    "choose_store_button.click()\n",
    "\n",
    "time.sleep(2)\n",
    "# Get descriptions for all products\n",
    "descriptions = driver.find_elements(By.CLASS_NAME, 'HoverCard-sc-17t78cx-0')\n",
    "descriptions = [description.text for description in descriptions]\n",
    "\n",
    "products = {}\n",
    "\n",
    "# NOTE: Works only for price in KG, not in L\n",
    "for description in descriptions:\n",
    "    price_kilo = re.findall(r'(\\d+,\\d+)(?=/kg)', description)\n",
    "    name = description.split('\\n')[0]\n",
    "    if len(price_kilo) > 0:\n",
    "        price_kilo = float(price_kilo[0].replace(',', '.'))\n",
    "        # print(name, price_kilo)\n",
    "    else:\n",
    "        # print(f\"{name} NO PRICE\")\n",
    "        continue\n",
    "    \n",
    "    if isinstance(price_kilo, float):\n",
    "        products[name] = price_kilo\n",
    "\n",
    "print(products)\n",
    "\n",
    "# # time.sleep(10) \n",
    "# driver.close()"
   ]
  },
  {
   "cell_type": "code",
   "execution_count": null,
   "metadata": {},
   "outputs": [],
   "source": []
  }
 ],
 "metadata": {
  "kernelspec": {
   "display_name": "Python 3",
   "language": "python",
   "name": "python3"
  },
  "language_info": {
   "codemirror_mode": {
    "name": "ipython",
    "version": 3
   },
   "file_extension": ".py",
   "mimetype": "text/x-python",
   "name": "python",
   "nbconvert_exporter": "python",
   "pygments_lexer": "ipython3",
   "version": "3.12.1"
  }
 },
 "nbformat": 4,
 "nbformat_minor": 2
}
