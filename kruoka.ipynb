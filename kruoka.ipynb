{
 "cells": [
  {
   "cell_type": "code",
   "execution_count": 16,
   "metadata": {},
   "outputs": [],
   "source": [
    "import undetected_chromedriver as uc \n",
    "from selenium.webdriver.common.by import By\n",
    "import time  \n",
    "import re"
   ]
  },
  {
   "cell_type": "code",
   "execution_count": 27,
   "metadata": {},
   "outputs": [],
   "source": [
    "query = 'omena'\n",
    "store_location = 'imatra'\n",
    "\n",
    "options = uc.ChromeOptions() \n",
    "options.headless = False  # Set headless to False to run in non-headless mode"
   ]
  },
  {
   "cell_type": "code",
   "execution_count": 29,
   "metadata": {},
   "outputs": [
    {
     "name": "stdout",
     "output_type": "stream",
     "text": [
      "{'Pirkka Royal Gala omena irtomyynti, ulkomainen': 0.41, 'Omena Idared': 0.17, 'Pirkka Golden Delicious omena, ulkomainen': 0.42, 'Pirkka Royal Gala omena 1kg 1lk, ulkomainen': 2.59, 'Pirkka omena Gala luomu': 0.49, 'Pirkka omena Granny Smith 1 lk': 0.48, 'K-Menu omena 2kg 1 lk': 2.19, 'Pirkka omena Golden luomu kg': 0.49, 'Pirkka omenatäysmehu 1l': 1.19, 'Omena Pink Lady': 0.63}\n"
     ]
    }
   ],
   "source": [
    "options = uc.ChromeOptions() \n",
    "options.headless = False  # Set headless to False to run in non-headless mode\n",
    "\n",
    "driver = uc.Chrome(use_subprocess=True, options=options) \n",
    "driver.get(f\"https://www.k-ruoka.fi/haku?q={query}&kaupat&kauppahaku={store_location}&onlyChangeStore\") \n",
    "driver.maximize_window() \n",
    "\n",
    "# Close the popup if it comes out\n",
    "time.sleep(2)\n",
    "if driver.find_elements(By.CLASS_NAME, 'kc-button'):\n",
    "    popup_button = driver.find_elements(By.CLASS_NAME, 'kc-button')[1]\n",
    "    popup_button.click()\n",
    "\n",
    "\n",
    "time.sleep(1)\n",
    "# Set the store location\n",
    "choose_store_button = driver.find_element(By.CLASS_NAME, 'KButton__Button-sc-1idja9j-0')\n",
    "driver.execute_script(\"arguments[0].click();\", choose_store_button)\n",
    "\n",
    "\n",
    "time.sleep(2)\n",
    "# Get descriptions for all products\n",
    "descriptions = driver.find_elements(By.CLASS_NAME, 'HoverCard-sc-17t78cx-0')\n",
    "descriptions = [description.text for description in descriptions]\n",
    "\n",
    "products = {}\n",
    "\n",
    "# NOTE: Works only for price in KG, not in L\n",
    "for description in descriptions:\n",
    "    price_kpl = re.findall(r'(\\d+,\\d+)(?=/kpl)', description)\n",
    "    name = description.split('\\n')[0]\n",
    "    if len(price_kpl) > 0:\n",
    "        price_kpl = float(price_kpl[0].replace(',', '.'))\n",
    "    else:\n",
    "\n",
    "        continue\n",
    "    \n",
    "    if isinstance(price_kpl, float):\n",
    "        products[name] = price_kpl\n",
    "\n",
    "print(products)\n",
    "\n",
    "# # time.sleep(10) \n",
    "# driver.close()"
   ]
  },
  {
   "cell_type": "code",
   "execution_count": 12,
   "metadata": {},
   "outputs": [
    {
     "ename": "ElementClickInterceptedException",
     "evalue": "Message: element click intercepted: Element <button aria-label=\"Avaa ostoskori\" data-testid=\"basket-button\" data-basket-syncing=\"false\" class=\"KButton__Button-sc-1idja9j-0 kJxKLV BasketButton__StyledButton-sc-ekbdg6-1 dSgZDR\">...</button> is not clickable at point (1294, 33). Other element would receive the click: <div data-reach-dialog-overlay=\"\" class=\"Modal2__StyledDialogOverlay-sc-1asd3su-0 ikpdeD\" data-reach-dialog-inner=\"\" data-state=\"open\" style=\"opacity: 1;\">...</div>\n  (Session info: chrome=125.0.6422.142)\nStacktrace:\n\tGetHandleVerifier [0x0070B8E3+45827]\n\t(No symbol) [0x0069DCC4]\n\t(No symbol) [0x0059150F]\n\t(No symbol) [0x005D8052]\n\t(No symbol) [0x005D63D8]\n\t(No symbol) [0x005D425B]\n\t(No symbol) [0x005D3823]\n\t(No symbol) [0x005C85EF]\n\t(No symbol) [0x005F2DFC]\n\t(No symbol) [0x005C8075]\n\t(No symbol) [0x005F3094]\n\t(No symbol) [0x0060C034]\n\t(No symbol) [0x005F2B96]\n\t(No symbol) [0x005C6998]\n\t(No symbol) [0x005C751D]\n\tGetHandleVerifier [0x009C4513+2899763]\n\tGetHandleVerifier [0x00A1793D+3240797]\n\tGetHandleVerifier [0x007913B4+593364]\n\tGetHandleVerifier [0x007982DC+621820]\n\t(No symbol) [0x006A70A4]\n\t(No symbol) [0x006A37A8]\n\t(No symbol) [0x006A3947]\n\t(No symbol) [0x006959FE]\n\tBaseThreadInitThunk [0x763B7BA9+25]\n\tRtlInitializeExceptionChain [0x777BBE3B+107]\n\tRtlClearBits [0x777BBDBF+191]\n",
     "output_type": "error",
     "traceback": [
      "\u001b[1;31m---------------------------------------------------------------------------\u001b[0m",
      "\u001b[1;31mElementClickInterceptedException\u001b[0m          Traceback (most recent call last)",
      "Cell \u001b[1;32mIn[12], line 27\u001b[0m\n\u001b[0;32m     25\u001b[0m choose_store_button \u001b[38;5;241m=\u001b[39m driver\u001b[38;5;241m.\u001b[39mfind_element(By\u001b[38;5;241m.\u001b[39mCLASS_NAME, \u001b[38;5;124m'\u001b[39m\u001b[38;5;124mKButton__Button-sc-1idja9j-0\u001b[39m\u001b[38;5;124m'\u001b[39m)\n\u001b[0;32m     26\u001b[0m time\u001b[38;5;241m.\u001b[39msleep(\u001b[38;5;241m1\u001b[39m)\n\u001b[1;32m---> 27\u001b[0m \u001b[43mchoose_store_button\u001b[49m\u001b[38;5;241;43m.\u001b[39;49m\u001b[43mclick\u001b[49m\u001b[43m(\u001b[49m\u001b[43m)\u001b[49m\n\u001b[0;32m     29\u001b[0m time\u001b[38;5;241m.\u001b[39msleep(\u001b[38;5;241m2\u001b[39m)\n\u001b[0;32m     30\u001b[0m \u001b[38;5;66;03m# Get descriptions for all products\u001b[39;00m\n",
      "File \u001b[1;32mc:\\Users\\alexf\\OneDrive\\Tiedostot\\GitHub\\web-scraping\\.venv\\Lib\\site-packages\\selenium\\webdriver\\remote\\webelement.py:94\u001b[0m, in \u001b[0;36mWebElement.click\u001b[1;34m(self)\u001b[0m\n\u001b[0;32m     92\u001b[0m \u001b[38;5;28;01mdef\u001b[39;00m \u001b[38;5;21mclick\u001b[39m(\u001b[38;5;28mself\u001b[39m) \u001b[38;5;241m-\u001b[39m\u001b[38;5;241m>\u001b[39m \u001b[38;5;28;01mNone\u001b[39;00m:\n\u001b[0;32m     93\u001b[0m \u001b[38;5;250m    \u001b[39m\u001b[38;5;124;03m\"\"\"Clicks the element.\"\"\"\u001b[39;00m\n\u001b[1;32m---> 94\u001b[0m     \u001b[38;5;28;43mself\u001b[39;49m\u001b[38;5;241;43m.\u001b[39;49m\u001b[43m_execute\u001b[49m\u001b[43m(\u001b[49m\u001b[43mCommand\u001b[49m\u001b[38;5;241;43m.\u001b[39;49m\u001b[43mCLICK_ELEMENT\u001b[49m\u001b[43m)\u001b[49m\n",
      "File \u001b[1;32mc:\\Users\\alexf\\OneDrive\\Tiedostot\\GitHub\\web-scraping\\.venv\\Lib\\site-packages\\selenium\\webdriver\\remote\\webelement.py:395\u001b[0m, in \u001b[0;36mWebElement._execute\u001b[1;34m(self, command, params)\u001b[0m\n\u001b[0;32m    393\u001b[0m     params \u001b[38;5;241m=\u001b[39m {}\n\u001b[0;32m    394\u001b[0m params[\u001b[38;5;124m\"\u001b[39m\u001b[38;5;124mid\u001b[39m\u001b[38;5;124m\"\u001b[39m] \u001b[38;5;241m=\u001b[39m \u001b[38;5;28mself\u001b[39m\u001b[38;5;241m.\u001b[39m_id\n\u001b[1;32m--> 395\u001b[0m \u001b[38;5;28;01mreturn\u001b[39;00m \u001b[38;5;28;43mself\u001b[39;49m\u001b[38;5;241;43m.\u001b[39;49m\u001b[43m_parent\u001b[49m\u001b[38;5;241;43m.\u001b[39;49m\u001b[43mexecute\u001b[49m\u001b[43m(\u001b[49m\u001b[43mcommand\u001b[49m\u001b[43m,\u001b[49m\u001b[43m \u001b[49m\u001b[43mparams\u001b[49m\u001b[43m)\u001b[49m\n",
      "File \u001b[1;32mc:\\Users\\alexf\\OneDrive\\Tiedostot\\GitHub\\web-scraping\\.venv\\Lib\\site-packages\\selenium\\webdriver\\remote\\webdriver.py:347\u001b[0m, in \u001b[0;36mWebDriver.execute\u001b[1;34m(self, driver_command, params)\u001b[0m\n\u001b[0;32m    345\u001b[0m response \u001b[38;5;241m=\u001b[39m \u001b[38;5;28mself\u001b[39m\u001b[38;5;241m.\u001b[39mcommand_executor\u001b[38;5;241m.\u001b[39mexecute(driver_command, params)\n\u001b[0;32m    346\u001b[0m \u001b[38;5;28;01mif\u001b[39;00m response:\n\u001b[1;32m--> 347\u001b[0m     \u001b[38;5;28;43mself\u001b[39;49m\u001b[38;5;241;43m.\u001b[39;49m\u001b[43merror_handler\u001b[49m\u001b[38;5;241;43m.\u001b[39;49m\u001b[43mcheck_response\u001b[49m\u001b[43m(\u001b[49m\u001b[43mresponse\u001b[49m\u001b[43m)\u001b[49m\n\u001b[0;32m    348\u001b[0m     response[\u001b[38;5;124m\"\u001b[39m\u001b[38;5;124mvalue\u001b[39m\u001b[38;5;124m\"\u001b[39m] \u001b[38;5;241m=\u001b[39m \u001b[38;5;28mself\u001b[39m\u001b[38;5;241m.\u001b[39m_unwrap_value(response\u001b[38;5;241m.\u001b[39mget(\u001b[38;5;124m\"\u001b[39m\u001b[38;5;124mvalue\u001b[39m\u001b[38;5;124m\"\u001b[39m, \u001b[38;5;28;01mNone\u001b[39;00m))\n\u001b[0;32m    349\u001b[0m     \u001b[38;5;28;01mreturn\u001b[39;00m response\n",
      "File \u001b[1;32mc:\\Users\\alexf\\OneDrive\\Tiedostot\\GitHub\\web-scraping\\.venv\\Lib\\site-packages\\selenium\\webdriver\\remote\\errorhandler.py:229\u001b[0m, in \u001b[0;36mErrorHandler.check_response\u001b[1;34m(self, response)\u001b[0m\n\u001b[0;32m    227\u001b[0m         alert_text \u001b[38;5;241m=\u001b[39m value[\u001b[38;5;124m\"\u001b[39m\u001b[38;5;124malert\u001b[39m\u001b[38;5;124m\"\u001b[39m]\u001b[38;5;241m.\u001b[39mget(\u001b[38;5;124m\"\u001b[39m\u001b[38;5;124mtext\u001b[39m\u001b[38;5;124m\"\u001b[39m)\n\u001b[0;32m    228\u001b[0m     \u001b[38;5;28;01mraise\u001b[39;00m exception_class(message, screen, stacktrace, alert_text)  \u001b[38;5;66;03m# type: ignore[call-arg]  # mypy is not smart enough here\u001b[39;00m\n\u001b[1;32m--> 229\u001b[0m \u001b[38;5;28;01mraise\u001b[39;00m exception_class(message, screen, stacktrace)\n",
      "\u001b[1;31mElementClickInterceptedException\u001b[0m: Message: element click intercepted: Element <button aria-label=\"Avaa ostoskori\" data-testid=\"basket-button\" data-basket-syncing=\"false\" class=\"KButton__Button-sc-1idja9j-0 kJxKLV BasketButton__StyledButton-sc-ekbdg6-1 dSgZDR\">...</button> is not clickable at point (1294, 33). Other element would receive the click: <div data-reach-dialog-overlay=\"\" class=\"Modal2__StyledDialogOverlay-sc-1asd3su-0 ikpdeD\" data-reach-dialog-inner=\"\" data-state=\"open\" style=\"opacity: 1;\">...</div>\n  (Session info: chrome=125.0.6422.142)\nStacktrace:\n\tGetHandleVerifier [0x0070B8E3+45827]\n\t(No symbol) [0x0069DCC4]\n\t(No symbol) [0x0059150F]\n\t(No symbol) [0x005D8052]\n\t(No symbol) [0x005D63D8]\n\t(No symbol) [0x005D425B]\n\t(No symbol) [0x005D3823]\n\t(No symbol) [0x005C85EF]\n\t(No symbol) [0x005F2DFC]\n\t(No symbol) [0x005C8075]\n\t(No symbol) [0x005F3094]\n\t(No symbol) [0x0060C034]\n\t(No symbol) [0x005F2B96]\n\t(No symbol) [0x005C6998]\n\t(No symbol) [0x005C751D]\n\tGetHandleVerifier [0x009C4513+2899763]\n\tGetHandleVerifier [0x00A1793D+3240797]\n\tGetHandleVerifier [0x007913B4+593364]\n\tGetHandleVerifier [0x007982DC+621820]\n\t(No symbol) [0x006A70A4]\n\t(No symbol) [0x006A37A8]\n\t(No symbol) [0x006A3947]\n\t(No symbol) [0x006959FE]\n\tBaseThreadInitThunk [0x763B7BA9+25]\n\tRtlInitializeExceptionChain [0x777BBE3B+107]\n\tRtlClearBits [0x777BBDBF+191]\n"
     ]
    }
   ],
   "source": [
    "options = uc.ChromeOptions() \n",
    "options.headless = False  # Set headless to False to run in non-headless mode\n",
    "\n",
    "driver = uc.Chrome(use_subprocess=True, options=options) \n",
    "driver.get(f\"https://www.k-ruoka.fi/haku?q={query}\") \n",
    "driver.maximize_window() \n",
    "\n",
    "# Close the popup if it comes out\n",
    "time.sleep(2)\n",
    "if driver.find_elements(By.CLASS_NAME, 'kc-button'):\n",
    "    popup_button = driver.find_elements(By.CLASS_NAME, 'kc-button')[1]\n",
    "    popup_button.click()\n",
    "\n",
    "\n",
    "time.sleep(1)\n",
    "\n",
    "\n",
    "# Set the store location\n",
    "stores_button = driver.find_element(By.CLASS_NAME, 'SelectedStore__ChainAndName-sc-176mxqm-0')\n",
    "stores_button.click()\n",
    "time.sleep(1)\n",
    "store_input = driver.find_element(By.CLASS_NAME, 'ClearableInput2__Input-sc-1dtuu4t-1')\n",
    "store_input.send_keys(store_location)\n",
    "time.sleep(1)\n",
    "choose_store_button = driver.find_element(By.CLASS_NAME, 'KButton__Button-sc-1idja9j-0')\n",
    "choose_store_button.click()\n",
    "\n",
    "time.sleep(2)\n",
    "# Get descriptions for all products\n",
    "descriptions = driver.find_elements(By.CLASS_NAME, 'HoverCard-sc-17t78cx-0')\n",
    "descriptions = [description.text for description in descriptions]\n",
    "\n",
    "products = {}\n",
    "\n",
    "# NOTE: Works only for price in KG, not in L\n",
    "for description in descriptions:\n",
    "    price_kilo = re.findall(r'(\\d+,\\d+)(?=/kg)', description)\n",
    "    name = description.split('\\n')[0]\n",
    "    if len(price_kilo) > 0:\n",
    "        price_kilo = float(price_kilo[0].replace(',', '.'))\n",
    "        # print(name, price_kilo)\n",
    "    else:\n",
    "        # print(f\"{name} NO PRICE\")\n",
    "        continue\n",
    "    \n",
    "    if isinstance(price_kilo, float):\n",
    "        products[name] = price_kilo\n",
    "\n",
    "print(products)\n",
    "\n",
    "# # time.sleep(10) \n",
    "# driver.close()"
   ]
  },
  {
   "cell_type": "code",
   "execution_count": null,
   "metadata": {},
   "outputs": [],
   "source": []
  }
 ],
 "metadata": {
  "kernelspec": {
   "display_name": "Python 3",
   "language": "python",
   "name": "python3"
  },
  "language_info": {
   "codemirror_mode": {
    "name": "ipython",
    "version": 3
   },
   "file_extension": ".py",
   "mimetype": "text/x-python",
   "name": "python",
   "nbconvert_exporter": "python",
   "pygments_lexer": "ipython3",
   "version": "3.12.1"
  }
 },
 "nbformat": 4,
 "nbformat_minor": 2
}
